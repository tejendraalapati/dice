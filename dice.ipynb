{
 "cells": [
  {
   "cell_type": "code",
   "execution_count": 1,
   "metadata": {},
   "outputs": [],
   "source": [
    "import random"
   ]
  },
  {
   "cell_type": "code",
   "execution_count": 7,
   "metadata": {},
   "outputs": [
    {
     "name": "stdout",
     "output_type": "stream",
     "text": [
      "[-------]\n",
      "[-0---0-]\n",
      "[---0---]\n",
      "[-0---0-]\n",
      "[-------]\n",
      "\n",
      "\n"
     ]
    }
   ],
   "source": [
    "a = \"b\"\n",
    "\n",
    "while a == \"b\":\n",
    "    number = random.randint(1,6)\n",
    "\n",
    "    if number == 1:\n",
    "        print(\"[-------]\")\n",
    "        print(\"[-------]\")\n",
    "        print(\"[---0---]\")\n",
    "        print(\"[-------]\")\n",
    "        print(\"[-------]\")\n",
    "\n",
    "    if number == 2:\n",
    "        print(\"[-------]\")\n",
    "        print(\"[-------]\")\n",
    "        print(\"[-0--0-]\")\n",
    "        print(\"[-------]\")\n",
    "        print(\"[-------]\")\n",
    "    if number == 3:\n",
    "        print(\"[-------]\")\n",
    "        print(\"[-------]\")\n",
    "        print(\"[-0-0-0-]\")\n",
    "        print(\"[-------]\")\n",
    "        print(\"[-------]\")\n",
    "    if number == 4:\n",
    "        print(\"[-------]\")\n",
    "        print(\"[-------]\")\n",
    "        print(\"[-0---0-]\")\n",
    "        print(\"[-0---0-]\")\n",
    "        print(\"[-------]\")\n",
    "\n",
    "    if number == 5:\n",
    "        print(\"[-------]\")\n",
    "        print(\"[-0---0-]\")\n",
    "        print(\"[---0---]\")\n",
    "        print(\"[-0---0-]\")\n",
    "        print(\"[-------]\")\n",
    "\n",
    "    if number == 6:\n",
    "        print(\"[-------]\")\n",
    "        print(\"[-0-0--0]\")\n",
    "        print(\"[-0-0-0-]\")\n",
    "        print(\"[-------]\")\n",
    "        print(\"[-------]\")\n",
    "\n",
    "    a = input(\"press y to continue:\")\n",
    "\n",
    "    print(\"\\n\")"
   ]
  }
 ],
 "metadata": {
  "kernelspec": {
   "display_name": "Python 3",
   "language": "python",
   "name": "python3"
  },
  "language_info": {
   "codemirror_mode": {
    "name": "ipython",
    "version": 3
   },
   "file_extension": ".py",
   "mimetype": "text/x-python",
   "name": "python",
   "nbconvert_exporter": "python",
   "pygments_lexer": "ipython3",
   "version": "3.11.0"
  },
  "orig_nbformat": 4
 },
 "nbformat": 4,
 "nbformat_minor": 2
}
